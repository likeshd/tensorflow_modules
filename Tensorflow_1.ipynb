{
  "cells": [
    {
      "cell_type": "markdown",
      "metadata": {
        "id": "view-in-github",
        "colab_type": "text"
      },
      "source": [
        "<a href=\"https://colab.research.google.com/github/likeshd/tensorflow_modules/blob/main/Tensorflow_1.ipynb\" target=\"_parent\"><img src=\"https://colab.research.google.com/assets/colab-badge.svg\" alt=\"Open In Colab\"/></a>"
      ]
    },
    {
      "cell_type": "code",
      "execution_count": null,
      "metadata": {
        "id": "h_GoLLIxUdn3"
      },
      "outputs": [],
      "source": [
        "import pandas as pd"
      ]
    },
    {
      "cell_type": "code",
      "execution_count": null,
      "metadata": {
        "id": "v8bSTs_BUdn6"
      },
      "outputs": [],
      "source": [
        "data = pd.read_csv(\"Boston.csv\")"
      ]
    },
    {
      "cell_type": "code",
      "execution_count": null,
      "metadata": {
        "id": "0zThvEJlUdn7",
        "outputId": "d840e42a-d31b-446f-9441-9ed2158daddd"
      },
      "outputs": [
        {
          "data": {
            "text/html": [
              "<div>\n",
              "<style scoped>\n",
              "    .dataframe tbody tr th:only-of-type {\n",
              "        vertical-align: middle;\n",
              "    }\n",
              "\n",
              "    .dataframe tbody tr th {\n",
              "        vertical-align: top;\n",
              "    }\n",
              "\n",
              "    .dataframe thead th {\n",
              "        text-align: right;\n",
              "    }\n",
              "</style>\n",
              "<table border=\"1\" class=\"dataframe\">\n",
              "  <thead>\n",
              "    <tr style=\"text-align: right;\">\n",
              "      <th></th>\n",
              "      <th>crim</th>\n",
              "      <th>zn</th>\n",
              "      <th>indus</th>\n",
              "      <th>chas</th>\n",
              "      <th>nox</th>\n",
              "      <th>rm</th>\n",
              "      <th>age</th>\n",
              "      <th>dis</th>\n",
              "      <th>rad</th>\n",
              "      <th>tax</th>\n",
              "      <th>ptratio</th>\n",
              "      <th>black</th>\n",
              "      <th>lstat</th>\n",
              "      <th>medv</th>\n",
              "    </tr>\n",
              "  </thead>\n",
              "  <tbody>\n",
              "    <tr>\n",
              "      <th>0</th>\n",
              "      <td>0.00632</td>\n",
              "      <td>18.0</td>\n",
              "      <td>2.31</td>\n",
              "      <td>0</td>\n",
              "      <td>0.538</td>\n",
              "      <td>6.575</td>\n",
              "      <td>65.2</td>\n",
              "      <td>4.0900</td>\n",
              "      <td>1</td>\n",
              "      <td>296</td>\n",
              "      <td>15.3</td>\n",
              "      <td>396.90</td>\n",
              "      <td>4.98</td>\n",
              "      <td>24.0</td>\n",
              "    </tr>\n",
              "    <tr>\n",
              "      <th>1</th>\n",
              "      <td>0.02731</td>\n",
              "      <td>0.0</td>\n",
              "      <td>7.07</td>\n",
              "      <td>0</td>\n",
              "      <td>0.469</td>\n",
              "      <td>6.421</td>\n",
              "      <td>78.9</td>\n",
              "      <td>4.9671</td>\n",
              "      <td>2</td>\n",
              "      <td>242</td>\n",
              "      <td>17.8</td>\n",
              "      <td>396.90</td>\n",
              "      <td>9.14</td>\n",
              "      <td>21.6</td>\n",
              "    </tr>\n",
              "    <tr>\n",
              "      <th>2</th>\n",
              "      <td>0.02729</td>\n",
              "      <td>0.0</td>\n",
              "      <td>7.07</td>\n",
              "      <td>0</td>\n",
              "      <td>0.469</td>\n",
              "      <td>7.185</td>\n",
              "      <td>61.1</td>\n",
              "      <td>4.9671</td>\n",
              "      <td>2</td>\n",
              "      <td>242</td>\n",
              "      <td>17.8</td>\n",
              "      <td>392.83</td>\n",
              "      <td>4.03</td>\n",
              "      <td>34.7</td>\n",
              "    </tr>\n",
              "    <tr>\n",
              "      <th>3</th>\n",
              "      <td>0.03237</td>\n",
              "      <td>0.0</td>\n",
              "      <td>2.18</td>\n",
              "      <td>0</td>\n",
              "      <td>0.458</td>\n",
              "      <td>6.998</td>\n",
              "      <td>45.8</td>\n",
              "      <td>6.0622</td>\n",
              "      <td>3</td>\n",
              "      <td>222</td>\n",
              "      <td>18.7</td>\n",
              "      <td>394.63</td>\n",
              "      <td>2.94</td>\n",
              "      <td>33.4</td>\n",
              "    </tr>\n",
              "    <tr>\n",
              "      <th>4</th>\n",
              "      <td>0.06905</td>\n",
              "      <td>0.0</td>\n",
              "      <td>2.18</td>\n",
              "      <td>0</td>\n",
              "      <td>0.458</td>\n",
              "      <td>7.147</td>\n",
              "      <td>54.2</td>\n",
              "      <td>6.0622</td>\n",
              "      <td>3</td>\n",
              "      <td>222</td>\n",
              "      <td>18.7</td>\n",
              "      <td>396.90</td>\n",
              "      <td>5.33</td>\n",
              "      <td>36.2</td>\n",
              "    </tr>\n",
              "  </tbody>\n",
              "</table>\n",
              "</div>"
            ],
            "text/plain": [
              "      crim    zn  indus  chas    nox     rm   age     dis  rad  tax  ptratio  \\\n",
              "0  0.00632  18.0   2.31     0  0.538  6.575  65.2  4.0900    1  296     15.3   \n",
              "1  0.02731   0.0   7.07     0  0.469  6.421  78.9  4.9671    2  242     17.8   \n",
              "2  0.02729   0.0   7.07     0  0.469  7.185  61.1  4.9671    2  242     17.8   \n",
              "3  0.03237   0.0   2.18     0  0.458  6.998  45.8  6.0622    3  222     18.7   \n",
              "4  0.06905   0.0   2.18     0  0.458  7.147  54.2  6.0622    3  222     18.7   \n",
              "\n",
              "    black  lstat  medv  \n",
              "0  396.90   4.98  24.0  \n",
              "1  396.90   9.14  21.6  \n",
              "2  392.83   4.03  34.7  \n",
              "3  394.63   2.94  33.4  \n",
              "4  396.90   5.33  36.2  "
            ]
          },
          "execution_count": 12,
          "metadata": {},
          "output_type": "execute_result"
        }
      ],
      "source": [
        "data.head()"
      ]
    },
    {
      "cell_type": "markdown",
      "metadata": {
        "id": "yx6HTeMCUdn7"
      },
      "source": [
        "Dataset Link - https://github.com/selva86/datasets/blob/master/BostonHousing.csv\n",
        "\n",
        "Attribute Information (in order):\n",
        "- CRIM     per capita crime rate by town\n",
        "- ZN       proportion of residential land zoned for lots over 25,000 sq.ft.\n",
        "- INDUS    proportion of non-retail business acres per town\n",
        "- CHAS     Charles River dummy variable (= 1 if tract bounds river; 0 otherwise)\n",
        "- NOX      nitric oxides concentration (parts per 10 million)\n",
        "- RM       average number of rooms per dwelling\n",
        "- AGE      proportion of owner-occupied units built prior to 1940\n",
        "- DIS      weighted distances to five Boston employment centres\n",
        "- RAD      index of accessibility to radial highways\n",
        "- TAX      full-value property-tax rate per $10,000\n",
        "- PTRATIO  pupil-teacher ratio by town\n",
        "- B        1000(Bk - 0.63)^2 where Bk is the proportion of blacks by town\n",
        "- LSTAT    % lower status of the population"
      ]
    },
    {
      "cell_type": "code",
      "execution_count": null,
      "metadata": {
        "id": "Ag-Rz__TUdn9"
      },
      "outputs": [],
      "source": [
        "X = data.drop(columns = [\"medv\"]) # Independent vars\n",
        "y = data[\"medv\"] # Target"
      ]
    },
    {
      "cell_type": "code",
      "execution_count": null,
      "metadata": {
        "id": "YRxDG4gUUdn-",
        "outputId": "21fd841a-b25e-4e9a-9e6d-b2de9f3b51b5"
      },
      "outputs": [
        {
          "data": {
            "text/plain": [
              "(506, 13)"
            ]
          },
          "execution_count": 14,
          "metadata": {},
          "output_type": "execute_result"
        }
      ],
      "source": [
        "X.shape"
      ]
    },
    {
      "cell_type": "code",
      "execution_count": null,
      "metadata": {
        "id": "dEBRyPI7Udn-",
        "outputId": "5c96d253-5816-4d5f-85af-e6b6441b130f"
      },
      "outputs": [
        {
          "data": {
            "text/plain": [
              "(506,)"
            ]
          },
          "execution_count": 15,
          "metadata": {},
          "output_type": "execute_result"
        }
      ],
      "source": [
        "y.shape"
      ]
    },
    {
      "cell_type": "markdown",
      "metadata": {
        "id": "gZAhyjGrUdn_"
      },
      "source": [
        "### Train Test Split"
      ]
    },
    {
      "cell_type": "code",
      "execution_count": null,
      "metadata": {
        "id": "Jq3AAsfaUdn_"
      },
      "outputs": [],
      "source": [
        "from sklearn.model_selection import train_test_split\n",
        "X_train, X_test, y_train, y_test = train_test_split(X, y, test_size=0.33, random_state=42)"
      ]
    },
    {
      "cell_type": "code",
      "execution_count": null,
      "metadata": {
        "id": "1gr4E3CsUdn_",
        "outputId": "84618ff8-3357-4098-bdfe-b20b780c692b"
      },
      "outputs": [
        {
          "name": "stdout",
          "output_type": "stream",
          "text": [
            "(339, 13)\n",
            "(339,)\n",
            "(167, 13)\n",
            "(167,)\n"
          ]
        }
      ],
      "source": [
        "print(X_train.shape)\n",
        "print(y_train.shape)\n",
        "print(X_test.shape)\n",
        "print(y_test.shape)"
      ]
    },
    {
      "cell_type": "markdown",
      "metadata": {
        "id": "5ut9lxpCUdoA"
      },
      "source": [
        "### Neural Networks using Tensorflow"
      ]
    },
    {
      "cell_type": "markdown",
      "metadata": {
        "id": "wSFBXfhrUdoA"
      },
      "source": [
        "- Model Initialization - Define the network architecture\n",
        "    - #Inputs\n",
        "    - #Outputs\n",
        "    - #Hidden Layers\n",
        "    - #Units in HL\n",
        "    - Activation Functions\n",
        "- Model Compilation - Type of problem\n",
        "    - Classification / Regression  - Loss function\n",
        "        - Reg : MSE\n",
        "        - Classfn : LogLoss/Cross Entropy\n",
        "    - Optimizer\n",
        "        - Stochastic Gradient Descent\n",
        "        - Adam\n",
        "        - RMSProp\n",
        "        - AdaDelta\n",
        "        - AdaGrad\n",
        "    - Learning Rate\n",
        "- Model Train/Fit\n",
        "    - Dataset\n",
        "        - Train\n",
        "        - Validation\n",
        "    - Iterations"
      ]
    },
    {
      "cell_type": "code",
      "execution_count": null,
      "metadata": {
        "id": "bvy1C5rnUdoA"
      },
      "outputs": [],
      "source": [
        "from tensorflow.keras.models import Sequential\n",
        "from tensorflow.keras.layers import Input, Dense"
      ]
    },
    {
      "cell_type": "code",
      "execution_count": null,
      "metadata": {
        "id": "rdiWD1VXUdoB"
      },
      "outputs": [],
      "source": [
        "model = Sequential() # Empty model without any HL's\n",
        "model.add(Input(13,))\n",
        "model.add(Dense(units=2, activation=\"relu\"))\n",
        "model.add(Dense(units = 1))"
      ]
    },
    {
      "cell_type": "code",
      "execution_count": null,
      "metadata": {
        "id": "nl6yE_KOUdoB"
      },
      "outputs": [],
      "source": [
        "model.compile(optimizer=\"adam\", loss=\"mean_squared_error\") # MSE because of a regression problem or continuous output"
      ]
    },
    {
      "cell_type": "code",
      "execution_count": null,
      "metadata": {
        "id": "X7RlmaVQUdoB",
        "outputId": "915aa7d7-06c5-4f3d-a7d8-ddb62c9def85"
      },
      "outputs": [
        {
          "name": "stdout",
          "output_type": "stream",
          "text": [
            "Epoch 1/150\n",
            "11/11 [==============================] - 1s 18ms/step - loss: 32243.0332 - val_loss: 28934.2070\n",
            "Epoch 2/150\n",
            "11/11 [==============================] - 0s 4ms/step - loss: 26724.8262 - val_loss: 23811.7383\n",
            "Epoch 3/150\n",
            "11/11 [==============================] - 0s 6ms/step - loss: 21775.4609 - val_loss: 19367.0664\n",
            "Epoch 4/150\n",
            "11/11 [==============================] - 0s 6ms/step - loss: 17539.0215 - val_loss: 15561.3740\n",
            "Epoch 5/150\n",
            "11/11 [==============================] - 0s 7ms/step - loss: 14016.9443 - val_loss: 12304.1338\n",
            "Epoch 6/150\n",
            "11/11 [==============================] - 0s 7ms/step - loss: 10998.5469 - val_loss: 9626.7432\n",
            "Epoch 7/150\n",
            "11/11 [==============================] - 0s 6ms/step - loss: 8537.1855 - val_loss: 7479.0249\n",
            "Epoch 8/150\n",
            "11/11 [==============================] - 0s 6ms/step - loss: 6553.4600 - val_loss: 5772.5615\n",
            "Epoch 9/150\n",
            "11/11 [==============================] - 0s 6ms/step - loss: 5022.2378 - val_loss: 4398.4097\n",
            "Epoch 10/150\n",
            "11/11 [==============================] - 0s 6ms/step - loss: 3788.8816 - val_loss: 3353.4697\n",
            "Epoch 11/150\n",
            "11/11 [==============================] - 0s 5ms/step - loss: 2867.6450 - val_loss: 2556.7368\n",
            "Epoch 12/150\n",
            "11/11 [==============================] - 0s 9ms/step - loss: 2157.0686 - val_loss: 1985.7837\n",
            "Epoch 13/150\n",
            "11/11 [==============================] - 0s 6ms/step - loss: 1679.8218 - val_loss: 1551.1384\n",
            "Epoch 14/150\n",
            "11/11 [==============================] - 0s 5ms/step - loss: 1301.5939 - val_loss: 1254.5890\n",
            "Epoch 15/150\n",
            "11/11 [==============================] - 0s 6ms/step - loss: 1049.9813 - val_loss: 1048.3506\n",
            "Epoch 16/150\n",
            "11/11 [==============================] - 0s 5ms/step - loss: 888.3192 - val_loss: 898.1328\n",
            "Epoch 17/150\n",
            "11/11 [==============================] - 0s 6ms/step - loss: 768.1259 - val_loss: 801.3287\n",
            "Epoch 18/150\n",
            "11/11 [==============================] - 0s 5ms/step - loss: 691.8774 - val_loss: 736.0939\n",
            "Epoch 19/150\n",
            "11/11 [==============================] - 0s 5ms/step - loss: 641.8002 - val_loss: 689.7097\n",
            "Epoch 20/150\n",
            "11/11 [==============================] - 0s 7ms/step - loss: 606.6181 - val_loss: 656.2422\n",
            "Epoch 21/150\n",
            "11/11 [==============================] - 0s 5ms/step - loss: 583.0850 - val_loss: 629.0323\n",
            "Epoch 22/150\n",
            "11/11 [==============================] - 0s 6ms/step - loss: 560.7341 - val_loss: 608.9784\n",
            "Epoch 23/150\n",
            "11/11 [==============================] - 0s 5ms/step - loss: 545.0940 - val_loss: 590.7856\n",
            "Epoch 24/150\n",
            "11/11 [==============================] - 0s 6ms/step - loss: 530.2145 - val_loss: 573.7438\n",
            "Epoch 25/150\n",
            "11/11 [==============================] - 0s 6ms/step - loss: 516.6345 - val_loss: 557.5460\n",
            "Epoch 26/150\n",
            "11/11 [==============================] - 0s 5ms/step - loss: 503.1724 - val_loss: 542.8289\n",
            "Epoch 27/150\n",
            "11/11 [==============================] - 0s 5ms/step - loss: 490.3290 - val_loss: 528.1418\n",
            "Epoch 28/150\n",
            "11/11 [==============================] - 0s 6ms/step - loss: 478.2760 - val_loss: 513.0149\n",
            "Epoch 29/150\n",
            "11/11 [==============================] - 0s 5ms/step - loss: 465.8802 - val_loss: 498.8151\n",
            "Epoch 30/150\n",
            "11/11 [==============================] - 0s 6ms/step - loss: 453.3839 - val_loss: 485.4668\n",
            "Epoch 31/150\n",
            "11/11 [==============================] - 0s 5ms/step - loss: 441.9048 - val_loss: 472.2040\n",
            "Epoch 32/150\n",
            "11/11 [==============================] - 0s 6ms/step - loss: 430.1104 - val_loss: 459.3329\n",
            "Epoch 33/150\n",
            "11/11 [==============================] - 0s 5ms/step - loss: 419.0376 - val_loss: 446.2813\n",
            "Epoch 34/150\n",
            "11/11 [==============================] - 0s 6ms/step - loss: 407.5722 - val_loss: 433.9857\n",
            "Epoch 35/150\n",
            "11/11 [==============================] - 0s 5ms/step - loss: 396.5208 - val_loss: 421.5884\n",
            "Epoch 36/150\n",
            "11/11 [==============================] - 0s 6ms/step - loss: 386.4688 - val_loss: 408.5356\n",
            "Epoch 37/150\n",
            "11/11 [==============================] - 0s 5ms/step - loss: 374.9595 - val_loss: 396.9926\n",
            "Epoch 38/150\n",
            "11/11 [==============================] - 0s 6ms/step - loss: 364.7577 - val_loss: 385.5958\n",
            "Epoch 39/150\n",
            "11/11 [==============================] - 0s 5ms/step - loss: 354.9652 - val_loss: 374.1851\n",
            "Epoch 40/150\n",
            "11/11 [==============================] - 0s 7ms/step - loss: 344.7560 - val_loss: 363.6358\n",
            "Epoch 41/150\n",
            "11/11 [==============================] - 0s 6ms/step - loss: 335.4396 - val_loss: 352.1288\n",
            "Epoch 42/150\n",
            "11/11 [==============================] - 0s 5ms/step - loss: 325.4575 - val_loss: 341.5938\n",
            "Epoch 43/150\n",
            "11/11 [==============================] - 0s 6ms/step - loss: 316.6294 - val_loss: 331.1965\n",
            "Epoch 44/150\n",
            "11/11 [==============================] - 0s 8ms/step - loss: 307.3678 - val_loss: 321.6995\n",
            "Epoch 45/150\n",
            "11/11 [==============================] - 0s 8ms/step - loss: 298.8643 - val_loss: 312.2028\n",
            "Epoch 46/150\n",
            "11/11 [==============================] - 0s 7ms/step - loss: 290.5227 - val_loss: 302.9427\n",
            "Epoch 47/150\n",
            "11/11 [==============================] - 0s 5ms/step - loss: 282.3369 - val_loss: 294.0172\n",
            "Epoch 48/150\n",
            "11/11 [==============================] - 0s 6ms/step - loss: 274.7036 - val_loss: 284.9571\n",
            "Epoch 49/150\n",
            "11/11 [==============================] - 0s 5ms/step - loss: 266.7465 - val_loss: 276.8171\n",
            "Epoch 50/150\n",
            "11/11 [==============================] - 0s 5ms/step - loss: 259.7412 - val_loss: 268.3315\n",
            "Epoch 51/150\n",
            "11/11 [==============================] - 0s 5ms/step - loss: 251.9454 - val_loss: 260.5183\n",
            "Epoch 52/150\n",
            "11/11 [==============================] - 0s 5ms/step - loss: 245.1128 - val_loss: 252.7401\n",
            "Epoch 53/150\n",
            "11/11 [==============================] - 0s 5ms/step - loss: 238.4013 - val_loss: 245.1675\n",
            "Epoch 54/150\n",
            "11/11 [==============================] - 0s 5ms/step - loss: 231.6233 - val_loss: 238.1552\n",
            "Epoch 55/150\n",
            "11/11 [==============================] - 0s 5ms/step - loss: 225.4248 - val_loss: 231.1263\n",
            "Epoch 56/150\n",
            "11/11 [==============================] - 0s 5ms/step - loss: 219.5018 - val_loss: 224.4322\n",
            "Epoch 57/150\n",
            "11/11 [==============================] - 0s 5ms/step - loss: 213.6488 - val_loss: 218.3726\n",
            "Epoch 58/150\n",
            "11/11 [==============================] - 0s 6ms/step - loss: 208.0076 - val_loss: 212.0876\n",
            "Epoch 59/150\n",
            "11/11 [==============================] - 0s 5ms/step - loss: 202.5098 - val_loss: 206.2639\n",
            "Epoch 60/150\n",
            "11/11 [==============================] - 0s 5ms/step - loss: 197.2396 - val_loss: 200.5915\n",
            "Epoch 61/150\n",
            "11/11 [==============================] - 0s 8ms/step - loss: 192.3404 - val_loss: 194.9951\n",
            "Epoch 62/150\n",
            "11/11 [==============================] - 0s 5ms/step - loss: 187.4358 - val_loss: 189.8657\n",
            "Epoch 63/150\n",
            "11/11 [==============================] - 0s 5ms/step - loss: 182.7991 - val_loss: 184.8915\n",
            "Epoch 64/150\n",
            "11/11 [==============================] - 0s 6ms/step - loss: 178.3140 - val_loss: 179.9008\n",
            "Epoch 65/150\n",
            "11/11 [==============================] - 0s 5ms/step - loss: 173.8658 - val_loss: 175.4584\n",
            "Epoch 66/150\n",
            "11/11 [==============================] - 0s 5ms/step - loss: 169.7832 - val_loss: 170.9893\n",
            "Epoch 67/150\n",
            "11/11 [==============================] - 0s 6ms/step - loss: 165.7467 - val_loss: 166.8793\n",
            "Epoch 68/150\n",
            "11/11 [==============================] - 0s 5ms/step - loss: 161.9988 - val_loss: 162.8054\n",
            "Epoch 69/150\n",
            "11/11 [==============================] - 0s 5ms/step - loss: 158.3078 - val_loss: 158.9258\n",
            "Epoch 70/150\n",
            "11/11 [==============================] - 0s 5ms/step - loss: 154.8180 - val_loss: 155.1580\n",
            "Epoch 71/150\n",
            "11/11 [==============================] - 0s 5ms/step - loss: 151.4864 - val_loss: 151.5365\n",
            "Epoch 72/150\n",
            "11/11 [==============================] - 0s 5ms/step - loss: 148.3721 - val_loss: 148.2129\n",
            "Epoch 73/150\n",
            "11/11 [==============================] - 0s 5ms/step - loss: 145.2022 - val_loss: 145.0056\n",
            "Epoch 74/150\n",
            "11/11 [==============================] - 0s 5ms/step - loss: 142.2563 - val_loss: 141.8511\n",
            "Epoch 75/150\n",
            "11/11 [==============================] - 0s 6ms/step - loss: 139.2448 - val_loss: 138.9055\n",
            "Epoch 76/150\n",
            "11/11 [==============================] - 0s 5ms/step - loss: 136.5540 - val_loss: 136.0067\n",
            "Epoch 77/150\n",
            "11/11 [==============================] - 0s 6ms/step - loss: 133.8668 - val_loss: 133.3790\n",
            "Epoch 78/150\n",
            "11/11 [==============================] - 0s 5ms/step - loss: 131.3552 - val_loss: 130.6291\n",
            "Epoch 79/150\n",
            "11/11 [==============================] - 0s 5ms/step - loss: 128.7733 - val_loss: 128.1548\n",
            "Epoch 80/150\n",
            "11/11 [==============================] - 0s 5ms/step - loss: 126.5709 - val_loss: 125.6911\n",
            "Epoch 81/150\n",
            "11/11 [==============================] - 0s 5ms/step - loss: 124.3433 - val_loss: 123.3994\n",
            "Epoch 82/150\n",
            "11/11 [==============================] - 0s 5ms/step - loss: 122.3768 - val_loss: 121.2265\n",
            "Epoch 83/150\n",
            "11/11 [==============================] - 0s 6ms/step - loss: 120.2688 - val_loss: 119.1298\n",
            "Epoch 84/150\n",
            "11/11 [==============================] - 0s 6ms/step - loss: 118.1985 - val_loss: 117.1562\n",
            "Epoch 85/150\n",
            "11/11 [==============================] - 0s 5ms/step - loss: 116.4732 - val_loss: 115.3062\n",
            "Epoch 86/150\n",
            "11/11 [==============================] - 0s 9ms/step - loss: 114.6092 - val_loss: 113.4965\n",
            "Epoch 87/150\n",
            "11/11 [==============================] - 0s 5ms/step - loss: 112.8188 - val_loss: 111.8383\n",
            "Epoch 88/150\n",
            "11/11 [==============================] - 0s 5ms/step - loss: 111.2846 - val_loss: 110.0917\n",
            "Epoch 89/150\n",
            "11/11 [==============================] - 0s 5ms/step - loss: 109.6294 - val_loss: 108.5886\n",
            "Epoch 90/150\n",
            "11/11 [==============================] - 0s 5ms/step - loss: 108.0948 - val_loss: 107.0686\n",
            "Epoch 91/150\n",
            "11/11 [==============================] - 0s 5ms/step - loss: 106.7134 - val_loss: 105.5984\n",
            "Epoch 92/150\n",
            "11/11 [==============================] - 0s 4ms/step - loss: 105.2782 - val_loss: 104.2186\n",
            "Epoch 93/150\n",
            "11/11 [==============================] - 0s 6ms/step - loss: 103.9234 - val_loss: 102.9513\n",
            "Epoch 94/150\n",
            "11/11 [==============================] - 0s 5ms/step - loss: 102.6700 - val_loss: 101.6670\n",
            "Epoch 95/150\n",
            "11/11 [==============================] - 0s 5ms/step - loss: 101.4846 - val_loss: 100.4722\n",
            "Epoch 96/150\n",
            "11/11 [==============================] - 0s 5ms/step - loss: 100.3948 - val_loss: 99.2822\n",
            "Epoch 97/150\n",
            "11/11 [==============================] - 0s 5ms/step - loss: 99.1759 - val_loss: 98.1706\n",
            "Epoch 98/150\n",
            "11/11 [==============================] - 0s 5ms/step - loss: 98.0312 - val_loss: 97.1462\n",
            "Epoch 99/150\n",
            "11/11 [==============================] - 0s 5ms/step - loss: 97.1354 - val_loss: 96.1885\n",
            "Epoch 100/150\n",
            "11/11 [==============================] - 0s 6ms/step - loss: 96.1332 - val_loss: 95.1983\n",
            "Epoch 101/150\n",
            "11/11 [==============================] - 0s 5ms/step - loss: 95.1483 - val_loss: 94.2968\n",
            "Epoch 102/150\n",
            "11/11 [==============================] - 0s 5ms/step - loss: 94.1578 - val_loss: 93.4290\n",
            "Epoch 103/150\n",
            "11/11 [==============================] - 0s 6ms/step - loss: 93.4209 - val_loss: 92.5770\n",
            "Epoch 104/150\n",
            "11/11 [==============================] - 0s 7ms/step - loss: 92.5008 - val_loss: 91.8136\n",
            "Epoch 105/150\n",
            "11/11 [==============================] - 0s 6ms/step - loss: 91.6990 - val_loss: 91.0658\n",
            "Epoch 106/150\n",
            "11/11 [==============================] - 0s 5ms/step - loss: 90.9536 - val_loss: 90.3221\n",
            "Epoch 107/150\n",
            "11/11 [==============================] - 0s 5ms/step - loss: 90.2668 - val_loss: 89.6180\n",
            "Epoch 108/150\n",
            "11/11 [==============================] - 0s 5ms/step - loss: 89.5052 - val_loss: 88.9394\n",
            "Epoch 109/150\n",
            "11/11 [==============================] - 0s 6ms/step - loss: 88.8206 - val_loss: 88.3102\n",
            "Epoch 110/150\n",
            "11/11 [==============================] - 0s 8ms/step - loss: 88.1591 - val_loss: 87.7008\n",
            "Epoch 111/150\n",
            "11/11 [==============================] - 0s 5ms/step - loss: 87.5423 - val_loss: 87.0712\n",
            "Epoch 112/150\n",
            "11/11 [==============================] - 0s 5ms/step - loss: 86.9181 - val_loss: 86.5007\n",
            "Epoch 113/150\n",
            "11/11 [==============================] - 0s 5ms/step - loss: 86.3806 - val_loss: 85.9395\n",
            "Epoch 114/150\n",
            "11/11 [==============================] - 0s 5ms/step - loss: 85.7547 - val_loss: 85.4195\n",
            "Epoch 115/150\n",
            "11/11 [==============================] - 0s 6ms/step - loss: 85.2000 - val_loss: 84.9449\n",
            "Epoch 116/150\n",
            "11/11 [==============================] - 0s 6ms/step - loss: 84.7241 - val_loss: 84.4608\n",
            "Epoch 117/150\n",
            "11/11 [==============================] - 0s 5ms/step - loss: 84.1899 - val_loss: 84.0316\n",
            "Epoch 118/150\n",
            "11/11 [==============================] - 0s 5ms/step - loss: 83.9199 - val_loss: 83.6133\n",
            "Epoch 119/150\n",
            "11/11 [==============================] - 0s 5ms/step - loss: 83.2736 - val_loss: 83.1616\n",
            "Epoch 120/150\n",
            "11/11 [==============================] - 0s 5ms/step - loss: 82.8117 - val_loss: 82.7809\n",
            "Epoch 121/150\n",
            "11/11 [==============================] - 0s 5ms/step - loss: 82.4187 - val_loss: 82.3906\n",
            "Epoch 122/150\n",
            "11/11 [==============================] - 0s 5ms/step - loss: 81.9920 - val_loss: 82.0126\n",
            "Epoch 123/150\n",
            "11/11 [==============================] - 0s 6ms/step - loss: 81.7543 - val_loss: 81.6227\n",
            "Epoch 124/150\n",
            "11/11 [==============================] - 0s 5ms/step - loss: 81.2178 - val_loss: 81.2777\n",
            "Epoch 125/150\n",
            "11/11 [==============================] - 0s 5ms/step - loss: 80.8826 - val_loss: 80.9159\n",
            "Epoch 126/150\n",
            "11/11 [==============================] - 0s 6ms/step - loss: 80.5342 - val_loss: 80.6385\n",
            "Epoch 127/150\n",
            "11/11 [==============================] - 0s 5ms/step - loss: 80.1256 - val_loss: 80.2931\n",
            "Epoch 128/150\n",
            "11/11 [==============================] - 0s 5ms/step - loss: 79.7708 - val_loss: 79.9081\n",
            "Epoch 129/150\n",
            "11/11 [==============================] - 0s 5ms/step - loss: 79.4417 - val_loss: 79.6247\n",
            "Epoch 130/150\n",
            "11/11 [==============================] - 0s 5ms/step - loss: 79.2327 - val_loss: 79.3065\n",
            "Epoch 131/150\n",
            "11/11 [==============================] - 0s 5ms/step - loss: 78.9452 - val_loss: 79.0657\n",
            "Epoch 132/150\n",
            "11/11 [==============================] - 0s 8ms/step - loss: 78.5917 - val_loss: 78.7699\n",
            "Epoch 133/150\n",
            "11/11 [==============================] - 0s 5ms/step - loss: 78.3098 - val_loss: 78.5466\n",
            "Epoch 134/150\n",
            "11/11 [==============================] - 0s 5ms/step - loss: 77.9676 - val_loss: 78.2538\n",
            "Epoch 135/150\n",
            "11/11 [==============================] - 0s 5ms/step - loss: 77.6630 - val_loss: 78.0147\n",
            "Epoch 136/150\n",
            "11/11 [==============================] - 0s 5ms/step - loss: 77.4745 - val_loss: 77.7847\n",
            "Epoch 137/150\n",
            "11/11 [==============================] - 0s 5ms/step - loss: 77.3113 - val_loss: 77.6083\n",
            "Epoch 138/150\n",
            "11/11 [==============================] - 0s 5ms/step - loss: 76.9170 - val_loss: 77.3689\n",
            "Epoch 139/150\n",
            "11/11 [==============================] - 0s 5ms/step - loss: 76.7141 - val_loss: 77.1353\n",
            "Epoch 140/150\n",
            "11/11 [==============================] - 0s 6ms/step - loss: 76.4472 - val_loss: 76.9366\n",
            "Epoch 141/150\n",
            "11/11 [==============================] - 0s 5ms/step - loss: 76.3027 - val_loss: 76.7592\n",
            "Epoch 142/150\n",
            "11/11 [==============================] - 0s 6ms/step - loss: 76.0692 - val_loss: 76.5757\n",
            "Epoch 143/150\n",
            "11/11 [==============================] - 0s 5ms/step - loss: 75.7966 - val_loss: 76.3676\n",
            "Epoch 144/150\n",
            "11/11 [==============================] - 0s 5ms/step - loss: 75.6829 - val_loss: 76.1770\n",
            "Epoch 145/150\n",
            "11/11 [==============================] - 0s 5ms/step - loss: 75.4184 - val_loss: 76.0100\n",
            "Epoch 146/150\n",
            "11/11 [==============================] - 0s 7ms/step - loss: 75.2645 - val_loss: 75.8670\n",
            "Epoch 147/150\n",
            "11/11 [==============================] - 0s 5ms/step - loss: 75.1999 - val_loss: 75.6380\n",
            "Epoch 148/150\n",
            "11/11 [==============================] - 0s 5ms/step - loss: 74.8588 - val_loss: 75.5072\n",
            "Epoch 149/150\n",
            "11/11 [==============================] - 0s 5ms/step - loss: 74.6959 - val_loss: 75.2854\n",
            "Epoch 150/150\n",
            "11/11 [==============================] - 0s 5ms/step - loss: 74.5602 - val_loss: 75.0441\n"
          ]
        },
        {
          "data": {
            "text/plain": [
              "<keras.src.callbacks.History at 0x2446ec822b0>"
            ]
          },
          "execution_count": 44,
          "metadata": {},
          "output_type": "execute_result"
        }
      ],
      "source": [
        "model.fit(x=X_train, y=y_train, epochs=150, validation_data=(X_test,y_test))"
      ]
    },
    {
      "cell_type": "code",
      "execution_count": null,
      "metadata": {
        "id": "GULhg0CfUdoB",
        "outputId": "6d686783-938c-4211-e120-d5dfb6f38dd9"
      },
      "outputs": [
        {
          "data": {
            "text/plain": [
              "dict_keys(['loss', 'val_loss'])"
            ]
          },
          "execution_count": 24,
          "metadata": {},
          "output_type": "execute_result"
        }
      ],
      "source": [
        "model.history.history.keys()"
      ]
    },
    {
      "cell_type": "code",
      "execution_count": null,
      "metadata": {
        "id": "zhC1bEEpUdoB"
      },
      "outputs": [],
      "source": [
        "import matplotlib.pyplot as plt"
      ]
    },
    {
      "cell_type": "code",
      "execution_count": null,
      "metadata": {
        "id": "YzPc_3ZpUdoB"
      },
      "outputs": [],
      "source": [
        "train_loss = model.history.history[\"loss\"]\n",
        "val_loss = model.history.history[\"val_loss\"]"
      ]
    },
    {
      "cell_type": "code",
      "execution_count": null,
      "metadata": {
        "id": "9jWz2pEEUdoC",
        "outputId": "90edc7a9-bfc0-4954-c4a2-7636f9d94cab"
      },
      "outputs": [
        {
          "data": {
            "image/png": "[encoded data removed]",
            "text/plain": [
              "<Figure size 432x288 with 1 Axes>"
            ]
          },
          "metadata": {
            "needs_background": "light"
          },
          "output_type": "display_data"
        }
      ],
      "source": [
        "plt.plot(train_loss)\n",
        "plt.plot(val_loss)\n",
        "plt.xlabel(\"Epochs\")\n",
        "plt.ylabel(\"MSE\")\n",
        "plt.ylim((0,3000))\n",
        "plt.legend([\"Train\", \"Test\"])\n",
        "plt.grid()\n",
        "plt.show()"
      ]
    },
    {
      "cell_type": "code",
      "execution_count": null,
      "metadata": {
        "id": "hNMQYcfLUdoC",
        "outputId": "dcc935d7-daba-4304-8862-697c1675f595"
      },
      "outputs": [
        {
          "name": "stdout",
          "output_type": "stream",
          "text": [
            "6/6 [==============================] - 0s 4ms/step\n"
          ]
        },
        {
          "data": {
            "text/plain": [
              "array([[ 20.071281 ],\n",
              "       [ 27.706919 ],\n",
              "       [ 20.484219 ],\n",
              "       [ 29.064194 ],\n",
              "       [ 27.478945 ],\n",
              "       [ 20.93245  ],\n",
              "       [ 22.510527 ],\n",
              "       [ 23.635958 ],\n",
              "       [ 28.140003 ],\n",
              "       [ 22.23587  ],\n",
              "       [ 24.79125  ],\n",
              "       [ 22.699686 ],\n",
              "       [ -5.6644053],\n",
              "       [ 24.524494 ],\n",
              "       [ 22.15367  ],\n",
              "       [ 28.196712 ],\n",
              "       [ 26.256538 ],\n",
              "       [ 26.152584 ],\n",
              "       [ 27.51126  ],\n",
              "       [ 26.932816 ],\n",
              "       [ 29.147541 ],\n",
              "       [ 28.486698 ],\n",
              "       [ 17.86425  ],\n",
              "       [ 21.453957 ],\n",
              "       [ 20.632069 ],\n",
              "       [ 24.032751 ],\n",
              "       [ 26.922525 ],\n",
              "       [ -7.7128158],\n",
              "       [ 22.26556  ],\n",
              "       [ 23.314913 ],\n",
              "       [ 21.018553 ],\n",
              "       [ 24.1111   ],\n",
              "       [ 23.29743  ],\n",
              "       [ 26.078005 ],\n",
              "       [ 23.402243 ],\n",
              "       [ 11.698818 ],\n",
              "       [ 21.270971 ],\n",
              "       [ 25.521729 ],\n",
              "       [ 24.455526 ],\n",
              "       [ 28.26104  ],\n",
              "       [ 24.434996 ],\n",
              "       [ 24.120867 ],\n",
              "       [ 29.075344 ],\n",
              "       [ 26.143677 ],\n",
              "       [ 20.027569 ],\n",
              "       [ 27.506699 ],\n",
              "       [ 16.906645 ],\n",
              "       [ 28.615236 ],\n",
              "       [ 29.557081 ],\n",
              "       [ 19.928988 ],\n",
              "       [ 23.30658  ],\n",
              "       [ 26.494387 ],\n",
              "       [ 20.556719 ],\n",
              "       [ 20.407736 ],\n",
              "       [ 23.877205 ],\n",
              "       [ 31.566906 ],\n",
              "       [ 27.263248 ],\n",
              "       [ 29.375416 ],\n",
              "       [ 23.801325 ],\n",
              "       [ 24.77193  ],\n",
              "       [ 27.361464 ],\n",
              "       [ 30.329922 ],\n",
              "       [ 26.857811 ],\n",
              "       [ 16.31986  ],\n",
              "       [ 22.042215 ],\n",
              "       [ 22.898104 ],\n",
              "       [ 26.346922 ],\n",
              "       [ 26.429617 ],\n",
              "       [ 28.8034   ],\n",
              "       [ -5.134375 ],\n",
              "       [ 27.711565 ],\n",
              "       [ 28.223011 ],\n",
              "       [ 13.418388 ],\n",
              "       [ 26.043285 ],\n",
              "       [ 25.153067 ],\n",
              "       [ 22.29027  ],\n",
              "       [ 19.08626  ],\n",
              "       [ 29.361233 ],\n",
              "       [ 25.70025  ],\n",
              "       [ 17.651834 ],\n",
              "       [ 25.71185  ],\n",
              "       [ 21.84748  ],\n",
              "       [ 29.089739 ],\n",
              "       [ 28.385937 ],\n",
              "       [ 21.030628 ],\n",
              "       [ 20.644844 ],\n",
              "       [ 15.785777 ],\n",
              "       [ 25.27189  ],\n",
              "       [ 30.914707 ],\n",
              "       [ 21.842865 ],\n",
              "       [ 24.409065 ],\n",
              "       [  1.727437 ],\n",
              "       [ 21.622578 ],\n",
              "       [ 19.40697  ],\n",
              "       [ 24.736473 ],\n",
              "       [ 20.529173 ],\n",
              "       [ 22.607895 ],\n",
              "       [ -4.9704475],\n",
              "       [ -6.9467473],\n",
              "       [ -6.393946 ],\n",
              "       [ 24.76873  ],\n",
              "       [ 24.613205 ],\n",
              "       [ 23.071053 ],\n",
              "       [ 22.943123 ],\n",
              "       [ 24.043957 ],\n",
              "       [ -5.358605 ],\n",
              "       [ 21.55964  ],\n",
              "       [ 27.71215  ],\n",
              "       [ 26.47498  ],\n",
              "       [ 26.098736 ],\n",
              "       [ -7.937956 ],\n",
              "       [  6.122928 ],\n",
              "       [ 25.012236 ],\n",
              "       [ 22.508385 ],\n",
              "       [ 19.6717   ],\n",
              "       [ -0.8354354],\n",
              "       [ 18.978703 ],\n",
              "       [ 12.795122 ],\n",
              "       [ 24.902859 ],\n",
              "       [ 27.909197 ],\n",
              "       [ 21.53777  ],\n",
              "       [ 29.384413 ],\n",
              "       [-22.204401 ],\n",
              "       [ 20.851501 ],\n",
              "       [ 27.936037 ],\n",
              "       [ 24.587685 ],\n",
              "       [ 28.266365 ],\n",
              "       [ 17.61904  ],\n",
              "       [ -2.6941817],\n",
              "       [ 22.453026 ],\n",
              "       [ 26.192768 ],\n",
              "       [ 22.626978 ],\n",
              "       [ 16.824533 ],\n",
              "       [ 20.737837 ],\n",
              "       [ 23.095175 ],\n",
              "       [  2.4506154],\n",
              "       [ 26.175865 ],\n",
              "       [ 28.708408 ],\n",
              "       [ 26.046093 ],\n",
              "       [ 19.841425 ],\n",
              "       [ 20.253551 ],\n",
              "       [ 26.534992 ],\n",
              "       [ 29.390743 ],\n",
              "       [ 24.187824 ],\n",
              "       [ 16.549849 ],\n",
              "       [ 26.20602  ],\n",
              "       [ 17.215124 ],\n",
              "       [ 26.159742 ],\n",
              "       [ 19.79988  ],\n",
              "       [ 19.22351  ],\n",
              "       [  2.0166392],\n",
              "       [ 25.942654 ],\n",
              "       [ 21.044983 ],\n",
              "       [ 22.129175 ],\n",
              "       [ 27.023264 ],\n",
              "       [ 24.774187 ],\n",
              "       [ 26.231903 ],\n",
              "       [ 25.38692  ],\n",
              "       [ 21.922672 ],\n",
              "       [ 12.70811  ],\n",
              "       [ 21.512545 ],\n",
              "       [ 25.792591 ],\n",
              "       [ 23.30941  ],\n",
              "       [ 23.844889 ],\n",
              "       [ 24.887589 ],\n",
              "       [ 18.226706 ],\n",
              "       [ 19.201385 ]], dtype=float32)"
            ]
          },
          "execution_count": 41,
          "metadata": {},
          "output_type": "execute_result"
        }
      ],
      "source": [
        "model.predict(X_test)"
      ]
    }
  ],
  "metadata": {
    "kernelspec": {
      "display_name": "base",
      "language": "python",
      "name": "python3"
    },
    "language_info": {
      "codemirror_mode": {
        "name": "ipython",
        "version": 3
      },
      "file_extension": ".py",
      "mimetype": "text/x-python",
      "name": "python",
      "nbconvert_exporter": "python",
      "pygments_lexer": "ipython3",
      "version": "3.8.10"
    },
    "orig_nbformat": 4,
    "colab": {
      "provenance": [],
      "include_colab_link": true
    }
  },
  "nbformat": 4,
  "nbformat_minor": 0
}