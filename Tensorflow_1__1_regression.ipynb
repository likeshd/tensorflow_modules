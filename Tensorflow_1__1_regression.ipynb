{
  "cells": [
    {
      "cell_type": "markdown",
      "metadata": {
        "id": "view-in-github",
        "colab_type": "text"
      },
      "source": [
        "<a href=\"https://colab.research.google.com/github/likeshd/tensorflow_modules/blob/main/Tensorflow_1__1_regression.ipynb\" target=\"_parent\"><img src=\"https://colab.research.google.com/assets/colab-badge.svg\" alt=\"Open In Colab\"/></a>"
      ]
    },
    {
      "cell_type": "code",
      "execution_count": null,
      "metadata": {
        "id": "m4hh7HJ9dv1C"
      },
      "outputs": [],
      "source": [
        "import pandas as pd\n",
        "import numpy as np\n",
        "import matplotlib.pyplot as plt"
      ]
    },
    {
      "cell_type": "code",
      "execution_count": null,
      "metadata": {
        "id": "mZPJC6GPdv1E"
      },
      "outputs": [],
      "source": [
        "data = pd.read_csv(r\"C:\\Users\\phani\\OneDrive\\Trainings\\Boston.csv\")"
      ]
    },
    {
      "cell_type": "code",
      "execution_count": null,
      "metadata": {
        "id": "6F1ww5BPdv1E",
        "outputId": "ec370bc3-6246-4e6f-ba7d-a82b847eda78"
      },
      "outputs": [
        {
          "data": {
            "text/html": [
              "<div>\n",
              "<style scoped>\n",
              "    .dataframe tbody tr th:only-of-type {\n",
              "        vertical-align: middle;\n",
              "    }\n",
              "\n",
              "    .dataframe tbody tr th {\n",
              "        vertical-align: top;\n",
              "    }\n",
              "\n",
              "    .dataframe thead th {\n",
              "        text-align: right;\n",
              "    }\n",
              "</style>\n",
              "<table border=\"1\" class=\"dataframe\">\n",
              "  <thead>\n",
              "    <tr style=\"text-align: right;\">\n",
              "      <th></th>\n",
              "      <th>crim</th>\n",
              "      <th>zn</th>\n",
              "      <th>indus</th>\n",
              "      <th>chas</th>\n",
              "      <th>nox</th>\n",
              "      <th>rm</th>\n",
              "      <th>age</th>\n",
              "      <th>dis</th>\n",
              "      <th>rad</th>\n",
              "      <th>tax</th>\n",
              "      <th>ptratio</th>\n",
              "      <th>black</th>\n",
              "      <th>lstat</th>\n",
              "      <th>medv</th>\n",
              "    </tr>\n",
              "  </thead>\n",
              "  <tbody>\n",
              "    <tr>\n",
              "      <th>0</th>\n",
              "      <td>0.00632</td>\n",
              "      <td>18.0</td>\n",
              "      <td>2.31</td>\n",
              "      <td>0</td>\n",
              "      <td>0.538</td>\n",
              "      <td>6.575</td>\n",
              "      <td>65.2</td>\n",
              "      <td>4.0900</td>\n",
              "      <td>1</td>\n",
              "      <td>296</td>\n",
              "      <td>15.3</td>\n",
              "      <td>396.90</td>\n",
              "      <td>4.98</td>\n",
              "      <td>24.0</td>\n",
              "    </tr>\n",
              "    <tr>\n",
              "      <th>1</th>\n",
              "      <td>0.02731</td>\n",
              "      <td>0.0</td>\n",
              "      <td>7.07</td>\n",
              "      <td>0</td>\n",
              "      <td>0.469</td>\n",
              "      <td>6.421</td>\n",
              "      <td>78.9</td>\n",
              "      <td>4.9671</td>\n",
              "      <td>2</td>\n",
              "      <td>242</td>\n",
              "      <td>17.8</td>\n",
              "      <td>396.90</td>\n",
              "      <td>9.14</td>\n",
              "      <td>21.6</td>\n",
              "    </tr>\n",
              "    <tr>\n",
              "      <th>2</th>\n",
              "      <td>0.02729</td>\n",
              "      <td>0.0</td>\n",
              "      <td>7.07</td>\n",
              "      <td>0</td>\n",
              "      <td>0.469</td>\n",
              "      <td>7.185</td>\n",
              "      <td>61.1</td>\n",
              "      <td>4.9671</td>\n",
              "      <td>2</td>\n",
              "      <td>242</td>\n",
              "      <td>17.8</td>\n",
              "      <td>392.83</td>\n",
              "      <td>4.03</td>\n",
              "      <td>34.7</td>\n",
              "    </tr>\n",
              "    <tr>\n",
              "      <th>3</th>\n",
              "      <td>0.03237</td>\n",
              "      <td>0.0</td>\n",
              "      <td>2.18</td>\n",
              "      <td>0</td>\n",
              "      <td>0.458</td>\n",
              "      <td>6.998</td>\n",
              "      <td>45.8</td>\n",
              "      <td>6.0622</td>\n",
              "      <td>3</td>\n",
              "      <td>222</td>\n",
              "      <td>18.7</td>\n",
              "      <td>394.63</td>\n",
              "      <td>2.94</td>\n",
              "      <td>33.4</td>\n",
              "    </tr>\n",
              "    <tr>\n",
              "      <th>4</th>\n",
              "      <td>0.06905</td>\n",
              "      <td>0.0</td>\n",
              "      <td>2.18</td>\n",
              "      <td>0</td>\n",
              "      <td>0.458</td>\n",
              "      <td>7.147</td>\n",
              "      <td>54.2</td>\n",
              "      <td>6.0622</td>\n",
              "      <td>3</td>\n",
              "      <td>222</td>\n",
              "      <td>18.7</td>\n",
              "      <td>396.90</td>\n",
              "      <td>5.33</td>\n",
              "      <td>36.2</td>\n",
              "    </tr>\n",
              "  </tbody>\n",
              "</table>\n",
              "</div>"
            ],
            "text/plain": [
              "      crim    zn  indus  chas    nox     rm   age     dis  rad  tax  ptratio  \\\n",
              "0  0.00632  18.0   2.31     0  0.538  6.575  65.2  4.0900    1  296     15.3   \n",
              "1  0.02731   0.0   7.07     0  0.469  6.421  78.9  4.9671    2  242     17.8   \n",
              "2  0.02729   0.0   7.07     0  0.469  7.185  61.1  4.9671    2  242     17.8   \n",
              "3  0.03237   0.0   2.18     0  0.458  6.998  45.8  6.0622    3  222     18.7   \n",
              "4  0.06905   0.0   2.18     0  0.458  7.147  54.2  6.0622    3  222     18.7   \n",
              "\n",
              "    black  lstat  medv  \n",
              "0  396.90   4.98  24.0  \n",
              "1  396.90   9.14  21.6  \n",
              "2  392.83   4.03  34.7  \n",
              "3  394.63   2.94  33.4  \n",
              "4  396.90   5.33  36.2  "
            ]
          },
          "execution_count": 4,
          "metadata": {},
          "output_type": "execute_result"
        }
      ],
      "source": [
        "data.head()"
      ]
    },
    {
      "cell_type": "markdown",
      "metadata": {
        "id": "Q4M5XFkAdv1F"
      },
      "source": [
        "Dataset Link - https://github.com/selva86/datasets/blob/master/BostonHousing.csv\n",
        "\n",
        "Attribute Information (in order):\n",
        "- CRIM     per capita crime rate by town\n",
        "- ZN       proportion of residential land zoned for lots over 25,000 sq.ft.\n",
        "- INDUS    proportion of non-retail business acres per town\n",
        "- CHAS     Charles River dummy variable (= 1 if tract bounds river; 0 otherwise)\n",
        "- NOX      nitric oxides concentration (parts per 10 million)\n",
        "- RM       average number of rooms per dwelling\n",
        "- AGE      proportion of owner-occupied units built prior to 1940\n",
        "- DIS      weighted distances to five Boston employment centres\n",
        "- RAD      index of accessibility to radial highways\n",
        "- TAX      full-value property-tax rate per $10,000\n",
        "- PTRATIO  pupil-teacher ratio by town\n",
        "- B        1000(Bk - 0.63)^2 where Bk is the proportion of blacks by town\n",
        "- LSTAT    % lower status of the population"
      ]
    },
    {
      "cell_type": "code",
      "execution_count": null,
      "metadata": {
        "id": "L9UhBRAYdv1G"
      },
      "outputs": [],
      "source": [
        "X = data.drop(columns = [\"medv\"]) # Independent vars\n",
        "y = data[\"medv\"] # Target"
      ]
    },
    {
      "cell_type": "code",
      "execution_count": null,
      "metadata": {
        "id": "vCFghr5Edv1G",
        "outputId": "6b2bf3ff-2fa1-4479-97aa-e6dc9bea3fbf"
      },
      "outputs": [
        {
          "data": {
            "text/plain": [
              "(506, 13)"
            ]
          },
          "execution_count": 6,
          "metadata": {},
          "output_type": "execute_result"
        }
      ],
      "source": [
        "X.shape"
      ]
    },
    {
      "cell_type": "code",
      "execution_count": null,
      "metadata": {
        "id": "B49wVHc6dv1H",
        "outputId": "a6f0e2d5-7a59-47cb-b3f9-fa636ea7d5fc"
      },
      "outputs": [
        {
          "data": {
            "text/plain": [
              "(506,)"
            ]
          },
          "execution_count": 7,
          "metadata": {},
          "output_type": "execute_result"
        }
      ],
      "source": [
        "y.shape"
      ]
    },
    {
      "cell_type": "markdown",
      "metadata": {
        "id": "NV3yXtn4dv1H"
      },
      "source": [
        "### Train Test Split"
      ]
    },
    {
      "cell_type": "code",
      "execution_count": null,
      "metadata": {
        "id": "kOZiQMCRdv1H"
      },
      "outputs": [],
      "source": [
        "from sklearn.model_selection import train_test_split\n",
        "X_train, X_test, y_train, y_test = train_test_split(X, y, test_size=0.33, random_state=42)"
      ]
    },
    {
      "cell_type": "code",
      "execution_count": null,
      "metadata": {
        "id": "DmbmiEv-dv1I",
        "outputId": "f32b7b9b-96d9-44ac-d01d-d9412681a300"
      },
      "outputs": [
        {
          "name": "stdout",
          "output_type": "stream",
          "text": [
            "(339, 13)\n",
            "(339,)\n",
            "(167, 13)\n",
            "(167,)\n"
          ]
        }
      ],
      "source": [
        "print(X_train.shape)\n",
        "print(y_train.shape)\n",
        "print(X_test.shape)\n",
        "print(y_test.shape)"
      ]
    },
    {
      "cell_type": "markdown",
      "metadata": {
        "id": "HcPvv59Rdv1I"
      },
      "source": [
        "### Neural Networks using Tensorflow"
      ]
    },
    {
      "cell_type": "markdown",
      "metadata": {
        "id": "GRrcGyvidv1I"
      },
      "source": [
        "- Model Initialization - Define the network architecture\n",
        "    - #Inputs\n",
        "    - #Outputs\n",
        "    - #Hidden Layers\n",
        "    - #Units in HL\n",
        "    - Activation Functions\n",
        "- Model Compilation - Type of problem\n",
        "    - Classification / Regression  - Loss function\n",
        "        - Reg : MSE\n",
        "        - Classfn : LogLoss/Cross Entropy\n",
        "    - Optimizer\n",
        "        - Stochastic Gradient Descent\n",
        "        - Adam\n",
        "        - RMSProp\n",
        "        - AdaDelta\n",
        "        - AdaGrad\n",
        "    - Learning Rate\n",
        "- Model Train/Fit\n",
        "    - Dataset\n",
        "        - Train\n",
        "        - Validation\n",
        "    - Iterations"
      ]
    },
    {
      "cell_type": "code",
      "execution_count": null,
      "metadata": {
        "id": "2nMVhe2qdv1I"
      },
      "outputs": [],
      "source": [
        "from tensorflow.keras.models import Sequential\n",
        "from tensorflow.keras.layers import Input, Dense\n",
        "from tensorflow.keras.optimizers import Adam"
      ]
    },
    {
      "cell_type": "code",
      "execution_count": null,
      "metadata": {
        "id": "fQGrmthZdv1I"
      },
      "outputs": [],
      "source": [
        "model = Sequential() # Empty model without any HL's\n",
        "model.add(Input(13,))\n",
        "model.add(Dense(5,activation='relu'))\n",
        "model.add(Dense(units = 1))"
      ]
    },
    {
      "cell_type": "code",
      "execution_count": null,
      "metadata": {
        "id": "o6c8O2zRdv1J"
      },
      "outputs": [],
      "source": [
        "model.compile(optimizer=Adam(learning_rate=0.05), loss=\"mean_squared_error\") # MSE because of a regression problem or continuous output\n",
        "# Adagrad, Adadeta, Adaml"
      ]
    },
    {
      "cell_type": "code",
      "execution_count": null,
      "metadata": {
        "id": "UknyPg2sdv1J",
        "outputId": "215ca612-3d2e-40dc-fd99-a4574eeaa25d"
      },
      "outputs": [
        {
          "name": "stdout",
          "output_type": "stream",
          "text": [
            "Epoch 1/150\n",
            "6/6 [==============================] - 1s 81ms/step - loss: 513.2048 - val_loss: 187.8954\n",
            "Epoch 2/150\n",
            "6/6 [==============================] - 0s 10ms/step - loss: 151.3286 - val_loss: 102.9058\n",
            "Epoch 3/150\n",
            "6/6 [==============================] - 0s 10ms/step - loss: 95.1748 - val_loss: 64.7361\n",
            "Epoch 4/150\n",
            "6/6 [==============================] - 0s 11ms/step - loss: 81.4974 - val_loss: 53.8353\n",
            "Epoch 5/150\n",
            "6/6 [==============================] - 0s 12ms/step - loss: 69.9812 - val_loss: 48.1737\n",
            "Epoch 6/150\n",
            "6/6 [==============================] - 0s 9ms/step - loss: 66.2051 - val_loss: 48.0316\n",
            "Epoch 7/150\n",
            "6/6 [==============================] - 0s 11ms/step - loss: 65.9502 - val_loss: 45.0271\n",
            "Epoch 8/150\n",
            "6/6 [==============================] - 0s 11ms/step - loss: 65.6928 - val_loss: 42.9027\n",
            "Epoch 9/150\n",
            "6/6 [==============================] - 0s 13ms/step - loss: 64.0498 - val_loss: 45.9200\n",
            "Epoch 10/150\n",
            "6/6 [==============================] - 0s 11ms/step - loss: 61.8462 - val_loss: 41.5940\n",
            "Epoch 11/150\n",
            "6/6 [==============================] - 0s 11ms/step - loss: 61.0115 - val_loss: 46.4263\n",
            "Epoch 12/150\n",
            "6/6 [==============================] - 0s 12ms/step - loss: 57.9214 - val_loss: 39.5622\n",
            "Epoch 13/150\n",
            "6/6 [==============================] - 0s 20ms/step - loss: 55.3656 - val_loss: 39.4413\n",
            "Epoch 14/150\n",
            "6/6 [==============================] - 0s 10ms/step - loss: 52.4116 - val_loss: 35.5513\n",
            "Epoch 15/150\n",
            "6/6 [==============================] - 0s 10ms/step - loss: 50.9040 - val_loss: 46.0168\n",
            "Epoch 16/150\n",
            "6/6 [==============================] - 0s 9ms/step - loss: 51.7742 - val_loss: 34.2725\n",
            "Epoch 17/150\n",
            "6/6 [==============================] - 0s 10ms/step - loss: 50.2869 - val_loss: 56.8752\n",
            "Epoch 18/150\n",
            "6/6 [==============================] - 0s 9ms/step - loss: 54.3181 - val_loss: 30.8202\n",
            "Epoch 19/150\n",
            "6/6 [==============================] - 0s 10ms/step - loss: 51.3926 - val_loss: 29.8961\n",
            "Epoch 20/150\n",
            "6/6 [==============================] - 0s 9ms/step - loss: 44.5825 - val_loss: 51.0135\n",
            "Epoch 21/150\n",
            "6/6 [==============================] - 0s 9ms/step - loss: 46.6515 - val_loss: 29.7891\n",
            "Epoch 22/150\n",
            "6/6 [==============================] - 0s 9ms/step - loss: 41.8484 - val_loss: 30.6387\n",
            "Epoch 23/150\n",
            "6/6 [==============================] - 0s 10ms/step - loss: 39.9130 - val_loss: 34.5258\n",
            "Epoch 24/150\n",
            "6/6 [==============================] - 0s 9ms/step - loss: 39.9766 - val_loss: 26.5817\n",
            "Epoch 25/150\n",
            "6/6 [==============================] - 0s 10ms/step - loss: 37.7850 - val_loss: 31.0291\n",
            "Epoch 26/150\n",
            "6/6 [==============================] - 0s 10ms/step - loss: 38.3050 - val_loss: 32.8806\n",
            "Epoch 27/150\n",
            "6/6 [==============================] - 0s 9ms/step - loss: 37.7615 - val_loss: 35.7362\n",
            "Epoch 28/150\n",
            "6/6 [==============================] - 0s 9ms/step - loss: 40.3218 - val_loss: 25.5273\n",
            "Epoch 29/150\n",
            "6/6 [==============================] - 0s 11ms/step - loss: 37.1673 - val_loss: 27.3549\n",
            "Epoch 30/150\n",
            "6/6 [==============================] - 0s 10ms/step - loss: 37.0114 - val_loss: 31.1071\n",
            "Epoch 31/150\n",
            "6/6 [==============================] - 0s 11ms/step - loss: 36.3816 - val_loss: 32.8742\n",
            "Epoch 32/150\n",
            "6/6 [==============================] - 0s 11ms/step - loss: 39.0880 - val_loss: 39.1497\n",
            "Epoch 33/150\n",
            "6/6 [==============================] - 0s 9ms/step - loss: 37.8106 - val_loss: 28.0027\n",
            "Epoch 34/150\n",
            "6/6 [==============================] - 0s 11ms/step - loss: 34.9042 - val_loss: 27.4047\n",
            "Epoch 35/150\n",
            "6/6 [==============================] - 0s 11ms/step - loss: 35.2521 - val_loss: 24.8487\n",
            "Epoch 36/150\n",
            "6/6 [==============================] - 0s 10ms/step - loss: 34.3890 - val_loss: 25.8817\n",
            "Epoch 37/150\n",
            "6/6 [==============================] - 0s 10ms/step - loss: 35.7686 - val_loss: 25.6498\n",
            "Epoch 38/150\n",
            "6/6 [==============================] - 0s 15ms/step - loss: 39.4678 - val_loss: 28.1724\n",
            "Epoch 39/150\n",
            "6/6 [==============================] - 0s 9ms/step - loss: 38.5406 - val_loss: 25.5699\n",
            "Epoch 40/150\n",
            "6/6 [==============================] - 0s 12ms/step - loss: 41.8210 - val_loss: 23.5801\n",
            "Epoch 41/150\n",
            "6/6 [==============================] - 0s 10ms/step - loss: 38.0472 - val_loss: 41.3773\n",
            "Epoch 42/150\n",
            "6/6 [==============================] - 0s 11ms/step - loss: 48.9180 - val_loss: 42.2626\n",
            "Epoch 43/150\n",
            "6/6 [==============================] - 0s 10ms/step - loss: 51.6570 - val_loss: 23.6572\n",
            "Epoch 44/150\n",
            "6/6 [==============================] - 0s 9ms/step - loss: 46.0390 - val_loss: 70.0287\n",
            "Epoch 45/150\n",
            "6/6 [==============================] - 0s 12ms/step - loss: 49.0251 - val_loss: 28.4298\n",
            "Epoch 46/150\n",
            "6/6 [==============================] - 0s 10ms/step - loss: 36.7624 - val_loss: 25.5472\n",
            "Epoch 47/150\n",
            "6/6 [==============================] - 0s 12ms/step - loss: 38.4016 - val_loss: 23.9286\n",
            "Epoch 48/150\n",
            "6/6 [==============================] - 0s 10ms/step - loss: 35.7496 - val_loss: 36.0474\n",
            "Epoch 49/150\n",
            "6/6 [==============================] - 0s 10ms/step - loss: 39.4097 - val_loss: 32.7368\n",
            "Epoch 50/150\n",
            "6/6 [==============================] - 0s 10ms/step - loss: 35.4374 - val_loss: 25.7969\n",
            "Epoch 51/150\n",
            "6/6 [==============================] - 0s 9ms/step - loss: 33.3150 - val_loss: 24.2560\n",
            "Epoch 52/150\n",
            "6/6 [==============================] - 0s 10ms/step - loss: 39.6285 - val_loss: 24.5896\n",
            "Epoch 53/150\n",
            "6/6 [==============================] - 0s 9ms/step - loss: 36.9763 - val_loss: 24.0785\n",
            "Epoch 54/150\n",
            "6/6 [==============================] - 0s 10ms/step - loss: 34.3826 - val_loss: 29.8684\n",
            "Epoch 55/150\n",
            "6/6 [==============================] - 0s 10ms/step - loss: 33.8301 - val_loss: 28.4219\n",
            "Epoch 56/150\n",
            "6/6 [==============================] - 0s 12ms/step - loss: 33.3752 - val_loss: 24.6799\n",
            "Epoch 57/150\n",
            "6/6 [==============================] - 0s 13ms/step - loss: 32.6077 - val_loss: 26.1433\n",
            "Epoch 58/150\n",
            "6/6 [==============================] - 0s 11ms/step - loss: 34.5554 - val_loss: 28.6193\n",
            "Epoch 59/150\n",
            "6/6 [==============================] - 0s 11ms/step - loss: 41.9732 - val_loss: 25.8377\n",
            "Epoch 60/150\n",
            "6/6 [==============================] - 0s 12ms/step - loss: 39.1205 - val_loss: 25.2996\n",
            "Epoch 61/150\n",
            "6/6 [==============================] - 0s 14ms/step - loss: 35.3769 - val_loss: 41.5578\n",
            "Epoch 62/150\n",
            "6/6 [==============================] - 0s 13ms/step - loss: 35.9988 - val_loss: 23.8240\n",
            "Epoch 63/150\n",
            "6/6 [==============================] - 0s 14ms/step - loss: 32.1242 - val_loss: 24.7526\n",
            "Epoch 64/150\n",
            "6/6 [==============================] - 0s 14ms/step - loss: 32.0983 - val_loss: 26.6730\n",
            "Epoch 65/150\n",
            "6/6 [==============================] - 0s 13ms/step - loss: 32.9883 - val_loss: 28.8319\n",
            "Epoch 66/150\n",
            "6/6 [==============================] - 0s 10ms/step - loss: 33.5269 - val_loss: 28.6773\n",
            "Epoch 67/150\n",
            "6/6 [==============================] - 0s 11ms/step - loss: 34.6141 - val_loss: 27.5952\n",
            "Epoch 68/150\n",
            "6/6 [==============================] - 0s 10ms/step - loss: 33.8091 - val_loss: 34.3436\n",
            "Epoch 69/150\n",
            "6/6 [==============================] - 0s 11ms/step - loss: 34.4989 - val_loss: 23.5135\n",
            "Epoch 70/150\n",
            "6/6 [==============================] - 0s 9ms/step - loss: 30.3759 - val_loss: 22.0536\n",
            "Epoch 71/150\n",
            "6/6 [==============================] - 0s 10ms/step - loss: 30.4064 - val_loss: 22.4106\n",
            "Epoch 72/150\n",
            "6/6 [==============================] - 0s 10ms/step - loss: 33.3011 - val_loss: 23.9159\n",
            "Epoch 73/150\n",
            "6/6 [==============================] - 0s 10ms/step - loss: 37.4384 - val_loss: 27.6970\n",
            "Epoch 74/150\n",
            "6/6 [==============================] - 0s 10ms/step - loss: 33.1400 - val_loss: 51.4199\n",
            "Epoch 75/150\n",
            "6/6 [==============================] - 0s 9ms/step - loss: 39.5263 - val_loss: 27.9272\n",
            "Epoch 76/150\n",
            "6/6 [==============================] - 0s 10ms/step - loss: 41.7065 - val_loss: 24.0378\n",
            "Epoch 77/150\n",
            "6/6 [==============================] - 0s 11ms/step - loss: 39.7605 - val_loss: 32.3442\n",
            "Epoch 78/150\n",
            "6/6 [==============================] - 0s 11ms/step - loss: 36.1332 - val_loss: 24.7871\n",
            "Epoch 79/150\n",
            "6/6 [==============================] - 0s 9ms/step - loss: 36.9632 - val_loss: 28.1784\n",
            "Epoch 80/150\n",
            "6/6 [==============================] - 0s 12ms/step - loss: 36.8183 - val_loss: 41.2177\n",
            "Epoch 81/150\n",
            "6/6 [==============================] - 0s 14ms/step - loss: 34.7800 - val_loss: 24.8354\n",
            "Epoch 82/150\n",
            "6/6 [==============================] - 0s 12ms/step - loss: 32.8991 - val_loss: 23.3574\n",
            "Epoch 83/150\n",
            "6/6 [==============================] - 0s 10ms/step - loss: 32.5740 - val_loss: 31.4971\n",
            "Epoch 84/150\n",
            "6/6 [==============================] - 0s 11ms/step - loss: 33.9274 - val_loss: 23.9145\n",
            "Epoch 85/150\n",
            "6/6 [==============================] - 0s 11ms/step - loss: 30.6305 - val_loss: 22.9564\n",
            "Epoch 86/150\n",
            "6/6 [==============================] - 0s 12ms/step - loss: 29.7921 - val_loss: 24.1210\n",
            "Epoch 87/150\n",
            "6/6 [==============================] - 0s 11ms/step - loss: 30.7282 - val_loss: 38.3474\n",
            "Epoch 88/150\n",
            "6/6 [==============================] - 0s 12ms/step - loss: 36.0262 - val_loss: 23.4165\n",
            "Epoch 89/150\n",
            "6/6 [==============================] - 0s 12ms/step - loss: 29.0614 - val_loss: 26.1629\n",
            "Epoch 90/150\n",
            "6/6 [==============================] - 0s 15ms/step - loss: 30.4912 - val_loss: 22.7204\n",
            "Epoch 91/150\n",
            "6/6 [==============================] - 0s 9ms/step - loss: 29.5877 - val_loss: 24.2539\n",
            "Epoch 92/150\n",
            "6/6 [==============================] - 0s 12ms/step - loss: 28.5506 - val_loss: 21.6735\n",
            "Epoch 93/150\n",
            "6/6 [==============================] - 0s 9ms/step - loss: 28.0863 - val_loss: 21.8313\n",
            "Epoch 94/150\n",
            "6/6 [==============================] - 0s 10ms/step - loss: 28.0363 - val_loss: 26.3167\n",
            "Epoch 95/150\n",
            "6/6 [==============================] - 0s 12ms/step - loss: 29.6664 - val_loss: 26.7989\n",
            "Epoch 96/150\n",
            "6/6 [==============================] - 0s 9ms/step - loss: 35.2995 - val_loss: 27.0781\n",
            "Epoch 97/150\n",
            "6/6 [==============================] - 0s 11ms/step - loss: 34.3369 - val_loss: 23.1882\n",
            "Epoch 98/150\n",
            "6/6 [==============================] - 0s 10ms/step - loss: 41.0228 - val_loss: 34.8846\n",
            "Epoch 99/150\n",
            "6/6 [==============================] - 0s 10ms/step - loss: 39.1501 - val_loss: 42.4524\n",
            "Epoch 100/150\n",
            "6/6 [==============================] - 0s 11ms/step - loss: 47.9173 - val_loss: 26.5561\n",
            "Epoch 101/150\n",
            "6/6 [==============================] - 0s 10ms/step - loss: 33.5770 - val_loss: 22.4911\n",
            "Epoch 102/150\n",
            "6/6 [==============================] - 0s 11ms/step - loss: 29.8991 - val_loss: 22.4699\n",
            "Epoch 103/150\n",
            "6/6 [==============================] - 0s 9ms/step - loss: 32.1846 - val_loss: 24.6961\n",
            "Epoch 104/150\n",
            "6/6 [==============================] - 0s 10ms/step - loss: 29.1338 - val_loss: 24.2300\n",
            "Epoch 105/150\n",
            "6/6 [==============================] - 0s 9ms/step - loss: 27.0791 - val_loss: 24.0339\n",
            "Epoch 106/150\n",
            "6/6 [==============================] - 0s 11ms/step - loss: 27.4346 - val_loss: 26.0089\n",
            "Epoch 107/150\n",
            "6/6 [==============================] - 0s 10ms/step - loss: 30.3476 - val_loss: 22.4928\n",
            "Epoch 108/150\n",
            "6/6 [==============================] - 0s 12ms/step - loss: 27.4965 - val_loss: 28.8456\n",
            "Epoch 109/150\n",
            "6/6 [==============================] - 0s 12ms/step - loss: 34.2496 - val_loss: 25.5801\n",
            "Epoch 110/150\n",
            "6/6 [==============================] - 0s 10ms/step - loss: 34.1110 - val_loss: 21.8900\n",
            "Epoch 111/150\n",
            "6/6 [==============================] - 0s 11ms/step - loss: 26.9826 - val_loss: 26.8889\n",
            "Epoch 112/150\n",
            "6/6 [==============================] - 0s 10ms/step - loss: 26.8412 - val_loss: 22.3470\n",
            "Epoch 113/150\n",
            "6/6 [==============================] - 0s 10ms/step - loss: 28.0283 - val_loss: 22.5501\n",
            "Epoch 114/150\n",
            "6/6 [==============================] - 0s 11ms/step - loss: 29.1436 - val_loss: 24.4877\n",
            "Epoch 115/150\n",
            "6/6 [==============================] - 0s 9ms/step - loss: 29.6850 - val_loss: 23.7767\n",
            "Epoch 116/150\n",
            "6/6 [==============================] - 0s 10ms/step - loss: 28.0538 - val_loss: 23.3847\n",
            "Epoch 117/150\n",
            "6/6 [==============================] - 0s 12ms/step - loss: 26.4809 - val_loss: 23.1551\n",
            "Epoch 118/150\n",
            "6/6 [==============================] - 0s 9ms/step - loss: 31.1630 - val_loss: 22.3222\n",
            "Epoch 119/150\n",
            "6/6 [==============================] - 0s 10ms/step - loss: 28.7003 - val_loss: 22.5193\n",
            "Epoch 120/150\n",
            "6/6 [==============================] - 0s 9ms/step - loss: 28.4006 - val_loss: 27.8211\n",
            "Epoch 121/150\n",
            "6/6 [==============================] - 0s 11ms/step - loss: 28.2876 - val_loss: 29.5258\n",
            "Epoch 122/150\n",
            "6/6 [==============================] - 0s 10ms/step - loss: 31.0639 - val_loss: 24.5395\n",
            "Epoch 123/150\n",
            "6/6 [==============================] - 0s 10ms/step - loss: 31.3018 - val_loss: 33.2090\n",
            "Epoch 124/150\n",
            "6/6 [==============================] - 0s 9ms/step - loss: 31.7968 - val_loss: 22.9965\n",
            "Epoch 125/150\n",
            "6/6 [==============================] - 0s 10ms/step - loss: 25.6672 - val_loss: 25.6242\n",
            "Epoch 126/150\n",
            "6/6 [==============================] - 0s 11ms/step - loss: 28.3410 - val_loss: 29.3024\n",
            "Epoch 127/150\n",
            "6/6 [==============================] - 0s 9ms/step - loss: 26.6352 - val_loss: 23.4178\n",
            "Epoch 128/150\n",
            "6/6 [==============================] - 0s 9ms/step - loss: 26.0797 - val_loss: 21.7389\n",
            "Epoch 129/150\n",
            "6/6 [==============================] - 0s 9ms/step - loss: 26.7509 - val_loss: 21.6993\n",
            "Epoch 130/150\n",
            "6/6 [==============================] - 0s 11ms/step - loss: 24.5686 - val_loss: 21.9884\n",
            "Epoch 131/150\n",
            "6/6 [==============================] - 0s 10ms/step - loss: 24.1374 - val_loss: 21.4570\n",
            "Epoch 132/150\n",
            "6/6 [==============================] - 0s 9ms/step - loss: 24.6414 - val_loss: 21.3683\n",
            "Epoch 133/150\n",
            "6/6 [==============================] - 0s 9ms/step - loss: 23.7745 - val_loss: 22.6207\n",
            "Epoch 134/150\n",
            "6/6 [==============================] - 0s 10ms/step - loss: 24.7801 - val_loss: 22.0842\n",
            "Epoch 135/150\n",
            "6/6 [==============================] - 0s 10ms/step - loss: 25.4988 - val_loss: 25.5063\n",
            "Epoch 136/150\n",
            "6/6 [==============================] - 0s 9ms/step - loss: 28.7927 - val_loss: 23.3304\n",
            "Epoch 137/150\n",
            "6/6 [==============================] - 0s 10ms/step - loss: 27.7550 - val_loss: 25.0009\n",
            "Epoch 138/150\n",
            "6/6 [==============================] - 0s 10ms/step - loss: 26.3958 - val_loss: 30.5460\n",
            "Epoch 139/150\n",
            "6/6 [==============================] - 0s 10ms/step - loss: 32.7050 - val_loss: 28.3940\n",
            "Epoch 140/150\n",
            "6/6 [==============================] - 0s 9ms/step - loss: 31.5946 - val_loss: 21.6149\n",
            "Epoch 141/150\n",
            "6/6 [==============================] - 0s 10ms/step - loss: 27.1744 - val_loss: 21.9427\n",
            "Epoch 142/150\n",
            "6/6 [==============================] - 0s 10ms/step - loss: 23.7816 - val_loss: 23.3208\n",
            "Epoch 143/150\n",
            "6/6 [==============================] - 0s 12ms/step - loss: 25.0096 - val_loss: 22.4173\n",
            "Epoch 144/150\n",
            "6/6 [==============================] - 0s 9ms/step - loss: 23.3164 - val_loss: 21.4229\n",
            "Epoch 145/150\n",
            "6/6 [==============================] - 0s 11ms/step - loss: 23.9311 - val_loss: 21.4117\n",
            "Epoch 146/150\n",
            "6/6 [==============================] - 0s 9ms/step - loss: 22.1954 - val_loss: 22.0515\n",
            "Epoch 147/150\n",
            "6/6 [==============================] - 0s 10ms/step - loss: 23.1082 - val_loss: 23.7981\n",
            "Epoch 148/150\n",
            "6/6 [==============================] - 0s 10ms/step - loss: 24.3237 - val_loss: 21.2049\n",
            "Epoch 149/150\n",
            "6/6 [==============================] - 0s 10ms/step - loss: 22.3572 - val_loss: 21.3705\n",
            "Epoch 150/150\n",
            "6/6 [==============================] - 0s 9ms/step - loss: 28.2767 - val_loss: 22.2145\n"
          ]
        },
        {
          "data": {
            "text/plain": [
              "<keras.src.callbacks.History at 0x20aa6ba42e0>"
            ]
          },
          "execution_count": 93,
          "metadata": {},
          "output_type": "execute_result"
        }
      ],
      "source": [
        "model.fit(x=X_train, y=y_train, epochs=150, validation_data=(X_test,y_test), batch_size=64)"
      ]
    },
    {
      "cell_type": "code",
      "execution_count": null,
      "metadata": {
        "id": "n9Fudw2Odv1J",
        "outputId": "a8fdae78-75cc-4f75-d370-fb73a8e89f4f"
      },
      "outputs": [
        {
          "data": {
            "text/plain": [
              "dict_keys(['loss', 'val_loss'])"
            ]
          },
          "execution_count": 94,
          "metadata": {},
          "output_type": "execute_result"
        }
      ],
      "source": [
        "model.history.history.keys()"
      ]
    },
    {
      "cell_type": "code",
      "execution_count": null,
      "metadata": {
        "id": "o2CDjqnvdv1J",
        "outputId": "b77452d8-a3b9-4628-86bf-075099d5f5da"
      },
      "outputs": [
        {
          "name": "stdout",
          "output_type": "stream",
          "text": [
            "Model: \"sequential_12\"\n",
            "_________________________________________________________________\n",
            " Layer (type)                Output Shape              Param #   \n",
            "=================================================================\n",
            " dense_16 (Dense)            (None, 5)                 70        \n",
            "                                                                 \n",
            " dense_17 (Dense)            (None, 1)                 6         \n",
            "                                                                 \n",
            "=================================================================\n",
            "Total params: 76 (304.00 Byte)\n",
            "Trainable params: 76 (304.00 Byte)\n",
            "Non-trainable params: 0 (0.00 Byte)\n",
            "_________________________________________________________________\n",
            "None\n"
          ]
        }
      ],
      "source": [
        "print(model.summary())"
      ]
    },
    {
      "cell_type": "code",
      "execution_count": null,
      "metadata": {
        "id": "Iyrv_dqcdv1J"
      },
      "outputs": [],
      "source": [
        "train_loss = model.history.history[\"loss\"]\n",
        "val_loss = model.history.history[\"val_loss\"]"
      ]
    },
    {
      "cell_type": "code",
      "execution_count": null,
      "metadata": {
        "id": "nxJ38oKudv1J",
        "outputId": "486853e1-9238-49af-c5fa-88659ccd0e58"
      },
      "outputs": [
        {
          "data": {
            "image/png": "[encoded data removed]",
            "text/plain": [
              "<Figure size 432x288 with 1 Axes>"
            ]
          },
          "metadata": {
            "needs_background": "light"
          },
          "output_type": "display_data"
        }
      ],
      "source": [
        "plt.plot(train_loss)\n",
        "plt.plot(val_loss)\n",
        "plt.xlabel(\"Epochs\")\n",
        "plt.ylabel(\"MSE\")\n",
        "plt.ylim((0,500))\n",
        "plt.legend([\"Train\", \"Test\"])\n",
        "plt.grid()\n",
        "plt.show()"
      ]
    },
    {
      "cell_type": "code",
      "execution_count": null,
      "metadata": {
        "id": "c9jUBR8Bdv1J",
        "outputId": "d003e80f-6851-4469-9e2f-8145739fccb9"
      },
      "outputs": [
        {
          "data": {
            "image/png": "[encoded data removed]",
            "text/plain": [
              "<Figure size 432x288 with 1 Axes>"
            ]
          },
          "metadata": {
            "needs_background": "light"
          },
          "output_type": "display_data"
        }
      ],
      "source": [
        "plt.plot(train_loss)\n",
        "plt.plot(val_loss)\n",
        "plt.xlabel(\"Epochs\")\n",
        "plt.ylabel(\"MSE\")\n",
        "# plt.ylim((0,3000))\n",
        "plt.legend([\"Train\", \"Test\"])\n",
        "plt.grid()\n",
        "plt.show()"
      ]
    },
    {
      "cell_type": "code",
      "execution_count": null,
      "metadata": {
        "id": "9s1SEV8adv1J",
        "outputId": "0a298047-9708-42d3-f949-92c352262354"
      },
      "outputs": [
        {
          "name": "stdout",
          "output_type": "stream",
          "text": [
            "6/6 [==============================] - 0s 3ms/step\n"
          ]
        }
      ],
      "source": [
        "preds = model.predict(X_test)"
      ]
    },
    {
      "cell_type": "markdown",
      "metadata": {
        "id": "BhHCAESZdv1K"
      },
      "source": [
        "### Computing final RMSE"
      ]
    },
    {
      "cell_type": "code",
      "execution_count": null,
      "metadata": {
        "id": "re3IbRLPdv1K"
      },
      "outputs": [],
      "source": [
        "preds = preds.flatten()\n",
        "actuals = np.array(y_test)"
      ]
    },
    {
      "cell_type": "code",
      "execution_count": null,
      "metadata": {
        "id": "i1W1jaTYdv1K",
        "outputId": "2adf778f-d103-4653-b2ed-12c8275d622e"
      },
      "outputs": [
        {
          "data": {
            "text/plain": [
              "4.7132279352374"
            ]
          },
          "execution_count": 101,
          "metadata": {},
          "output_type": "execute_result"
        }
      ],
      "source": [
        "np.sqrt(np.mean((actuals-preds)**2)) # RMSE"
      ]
    }
  ],
  "metadata": {
    "kernelspec": {
      "display_name": "base",
      "language": "python",
      "name": "python3"
    },
    "language_info": {
      "codemirror_mode": {
        "name": "ipython",
        "version": 3
      },
      "file_extension": ".py",
      "mimetype": "text/x-python",
      "name": "python",
      "nbconvert_exporter": "python",
      "pygments_lexer": "ipython3",
      "version": "3.8.10"
    },
    "orig_nbformat": 4,
    "colab": {
      "provenance": [],
      "include_colab_link": true
    }
  },
  "nbformat": 4,
  "nbformat_minor": 0
}